{
 "cells": [
  {
   "cell_type": "markdown",
   "metadata": {},
   "source": [
    "# Per Capita By State\n",
    "\n",
    "This visualization shows the top per capita confirmed cases of COVID-19 in US states."
   ]
  },
  {
   "cell_type": "code",
   "execution_count": 2,
   "metadata": {},
   "outputs": [],
   "source": [
    "import pandas as pd\n",
    "import requests\n",
    "import json\n",
    "import numpy as np\n",
    "\n",
    "def download_covidtracking():\n",
    "    URL = 'https://covidtracking.com/api/states/daily'\n",
    "    r = requests.get(URL)\n",
    "    sd = pd.read_json(json.dumps(r.json()))\n",
    "    sd['date'] = pd.to_datetime(sd['date'], format='%Y%m%d')\n",
    "    return sd\n",
    "\n",
    "def download_FIPS():\n",
    "    return pd.read_csv('https://raw.githubusercontent.com/dsoto/simple-covid-models/master/state-populations.csv',\n",
    "                        index_col='USPS')\n",
    "\n",
    "\n",
    "def create_sorted_data(select_date):\n",
    "    latest_covid_data = covid_data[covid_data['date']==select_date]\n",
    "    # facilitate merge with population data\n",
    "    latest_covid_data = latest_covid_data.set_index('state')\n",
    "    # download state populations\n",
    "    population_data = download_FIPS()\n",
    "    # compute positive cases per capita \n",
    "    latest_covid_data['positive_per_capita'] = latest_covid_data['positive'] / population_data['population'] * 1E6\n",
    "    # put data in decending order\n",
    "    sorted_latest_covid_data = latest_covid_data.sort_values('positive_per_capita', ascending=False)\n",
    "    return sorted_latest_covid_data"
   ]
  },
  {
   "cell_type": "code",
   "execution_count": 3,
   "metadata": {},
   "outputs": [],
   "source": [
    "covid_data = download_covidtracking()\n",
    "# filter to relevant columns\n",
    "covid_data = covid_data[['date', 'positive', 'state']]\n",
    "# choose earliest date in set\n",
    "select_date = covid_data['date'].min()\n",
    "# filter for single date\n",
    "sorted_latest_covid_data = create_sorted_data(select_date)\n"
   ]
  },
  {
   "cell_type": "code",
   "execution_count": 4,
   "metadata": {},
   "outputs": [
    {
     "data": {
      "application/vnd.jupyter.widget-view+json": {
       "model_id": "f9c3296f8aeb417aaea4d3feb72b3298",
       "version_major": 2,
       "version_minor": 0
      },
      "text/plain": [
       "VBox(children=(Figure(animation_duration=1500, axes=[Axis(orientation='vertical', scale=OrdinalScale()), Axis(…"
      ]
     },
     "metadata": {},
     "output_type": "display_data"
    }
   ],
   "source": [
    "# bqplot bar graph\n",
    "\n",
    "def update_plot(*args):\n",
    "    select_date = covid_data['date'].min() + np.timedelta64(date_slider.value, 'D')\n",
    "    sorted_latest_covid_data = create_sorted_data(select_date)\n",
    "    bar.x = sorted_latest_covid_data['positive_per_capita'][:10].index\n",
    "    bar.y = sorted_latest_covid_data['positive_per_capita'][:10]\n",
    "    date.value = str(select_date) \n",
    "\n",
    "from bqplot import (OrdinalScale, LinearScale, Bars, Label,\n",
    "                    Figure, Axis, ColorScale, ColorAxis, CATEGORY10)\n",
    "import ipywidgets as widgets\n",
    "\n",
    "date_slider = widgets.IntSlider(value=0, min=0, max=30, step=1, description='Days:')\n",
    "date_slider.observe(update_plot, 'value')\n",
    "play_button = widgets.Play(min=0, max=24, interval=2000)\n",
    "date = widgets.Text(str(covid_data['date'].min()))\n",
    "\n",
    "widgets.jslink((play_button, 'value'), (date_slider, 'value'))\n",
    "\n",
    "\n",
    "x_ord = OrdinalScale()\n",
    "y_sc = LinearScale()\n",
    "\n",
    "x = sorted_latest_covid_data['positive_per_capita'][:10].index\n",
    "y = sorted_latest_covid_data['positive_per_capita'][:10]\n",
    "\n",
    "bar = Bars(x=x, y=y, scales={'x': x_ord, 'y': y_sc},\n",
    "           orientation='horizontal')\n",
    "ax_x = Axis(scale=x_ord, orientation='vertical')\n",
    "ax_y = Axis(scale=y_sc, tick_format='0.0f')\n",
    "\n",
    "fig = Figure(marks=[bar], axes=[ax_x, ax_y], \n",
    "             padding_x=0.025, padding_y=0.025,\n",
    "             animation_duration=1500,\n",
    "             title='Positive Cases per 1 Million People')\n",
    "box = widgets.VBox([fig, date, date_slider, play_button])\n",
    "display(box)"
   ]
  },
  {
   "cell_type": "code",
   "execution_count": null,
   "metadata": {},
   "outputs": [],
   "source": []
  }
 ],
 "metadata": {
  "kernelspec": {
   "display_name": "Python 3",
   "language": "python",
   "name": "python3"
  },
  "language_info": {
   "codemirror_mode": {
    "name": "ipython",
    "version": 3
   },
   "file_extension": ".py",
   "mimetype": "text/x-python",
   "name": "python",
   "nbconvert_exporter": "python",
   "pygments_lexer": "ipython3",
   "version": "3.8.1"
  }
 },
 "nbformat": 4,
 "nbformat_minor": 4
}
