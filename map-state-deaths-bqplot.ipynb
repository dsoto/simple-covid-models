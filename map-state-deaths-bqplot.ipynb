{
 "cells": [
  {
   "cell_type": "code",
   "execution_count": 18,
   "metadata": {},
   "outputs": [],
   "source": [
    "from bqplot import Tooltip, AlbersUSA, OrdinalColorScale, ColorAxis, ColorScale\n",
    "import pandas as pd\n",
    "import numpy as np\n",
    "from bqplot import pyplot as plt"
   ]
  },
  {
   "cell_type": "code",
   "execution_count": 19,
   "metadata": {},
   "outputs": [
    {
     "data": {
      "text/html": [
       "<div>\n",
       "<style scoped>\n",
       "    .dataframe tbody tr th:only-of-type {\n",
       "        vertical-align: middle;\n",
       "    }\n",
       "\n",
       "    .dataframe tbody tr th {\n",
       "        vertical-align: top;\n",
       "    }\n",
       "\n",
       "    .dataframe thead th {\n",
       "        text-align: right;\n",
       "    }\n",
       "</style>\n",
       "<table border=\"1\" class=\"dataframe\">\n",
       "  <thead>\n",
       "    <tr style=\"text-align: right;\">\n",
       "      <th></th>\n",
       "      <th>Name</th>\n",
       "      <th>FIPS</th>\n",
       "      <th>USPS</th>\n",
       "      <th>deaths</th>\n",
       "      <th>tests</th>\n",
       "      <th>populations</th>\n",
       "      <th>normalized_deaths</th>\n",
       "      <th>normalized_tests</th>\n",
       "    </tr>\n",
       "    <tr>\n",
       "      <th>USPS</th>\n",
       "      <th></th>\n",
       "      <th></th>\n",
       "      <th></th>\n",
       "      <th></th>\n",
       "      <th></th>\n",
       "      <th></th>\n",
       "      <th></th>\n",
       "      <th></th>\n",
       "    </tr>\n",
       "  </thead>\n",
       "  <tbody>\n",
       "    <tr>\n",
       "      <th>AL</th>\n",
       "      <td>Alabama</td>\n",
       "      <td>1</td>\n",
       "      <td>AL</td>\n",
       "      <td>3.0</td>\n",
       "      <td>4771</td>\n",
       "      <td>4903185</td>\n",
       "      <td>6.118472e-07</td>\n",
       "      <td>0.000973</td>\n",
       "    </tr>\n",
       "    <tr>\n",
       "      <th>AK</th>\n",
       "      <td>Alaska</td>\n",
       "      <td>2</td>\n",
       "      <td>AK</td>\n",
       "      <td>1.0</td>\n",
       "      <td>2388</td>\n",
       "      <td>731545</td>\n",
       "      <td>1.366970e-06</td>\n",
       "      <td>0.003264</td>\n",
       "    </tr>\n",
       "    <tr>\n",
       "      <th>AZ</th>\n",
       "      <td>Arizona</td>\n",
       "      <td>4</td>\n",
       "      <td>AZ</td>\n",
       "      <td>13.0</td>\n",
       "      <td>8191</td>\n",
       "      <td>7278717</td>\n",
       "      <td>1.786029e-06</td>\n",
       "      <td>0.001125</td>\n",
       "    </tr>\n",
       "    <tr>\n",
       "      <th>AR</th>\n",
       "      <td>Arkansas</td>\n",
       "      <td>5</td>\n",
       "      <td>AR</td>\n",
       "      <td>3.0</td>\n",
       "      <td>1926</td>\n",
       "      <td>3017804</td>\n",
       "      <td>9.941003e-07</td>\n",
       "      <td>0.000638</td>\n",
       "    </tr>\n",
       "    <tr>\n",
       "      <th>CA</th>\n",
       "      <td>California</td>\n",
       "      <td>6</td>\n",
       "      <td>CA</td>\n",
       "      <td>78.0</td>\n",
       "      <td>21259</td>\n",
       "      <td>39512223</td>\n",
       "      <td>1.974073e-06</td>\n",
       "      <td>0.000538</td>\n",
       "    </tr>\n",
       "  </tbody>\n",
       "</table>\n",
       "</div>"
      ],
      "text/plain": [
       "            Name  FIPS USPS  deaths  tests  populations  normalized_deaths  \\\n",
       "USPS                                                                         \n",
       "AL       Alabama     1   AL     3.0   4771      4903185       6.118472e-07   \n",
       "AK        Alaska     2   AK     1.0   2388       731545       1.366970e-06   \n",
       "AZ       Arizona     4   AZ    13.0   8191      7278717       1.786029e-06   \n",
       "AR      Arkansas     5   AR     3.0   1926      3017804       9.941003e-07   \n",
       "CA    California     6   CA    78.0  21259     39512223       1.974073e-06   \n",
       "\n",
       "      normalized_tests  \n",
       "USPS                    \n",
       "AL            0.000973  \n",
       "AK            0.003264  \n",
       "AZ            0.001125  \n",
       "AR            0.000638  \n",
       "CA            0.000538  "
      ]
     },
     "execution_count": 19,
     "metadata": {},
     "output_type": "execute_result"
    }
   ],
   "source": [
    "import requests\n",
    "URL = 'https://covidtracking.com/api/states'\n",
    "r = requests.get(URL)\n",
    "import json\n",
    "covid = pd.read_json(json.dumps(r.json()))\n",
    "covid.index = covid['state']\n",
    "deaths = covid['death']\n",
    "tests = covid['totalTestResults']\n",
    "\n",
    "# merge deaths with FIPS\n",
    "\n",
    "FIPS = pd.read_csv('states.csv')\n",
    "FIPS.index = FIPS['USPS']\n",
    "FIPS\n",
    "FIPS['deaths'] = deaths\n",
    "FIPS['tests'] = tests\n",
    "\n",
    "# create a series of populations\n",
    "# create a column of normalized deaths\n",
    "\n",
    "populations = pd.read_excel('state-populations.xlsx', index_col='State')\n",
    "populations = populations['population']\n",
    "FIPS['populations'] = populations\n",
    "FIPS['normalized_deaths'] = FIPS['deaths']/FIPS['populations']\n",
    "FIPS['normalized_tests'] = FIPS['tests']/FIPS['populations']\n",
    "FIPS.head()"
   ]
  },
  {
   "cell_type": "code",
   "execution_count": 38,
   "metadata": {},
   "outputs": [
    {
     "data": {
      "application/vnd.jupyter.widget-view+json": {
       "model_id": "9c61c8435a4846078edd5b33edb1f5fe",
       "version_major": 2,
       "version_minor": 0
      },
      "text/plain": [
       "Figure(axes=[ColorAxis(scale=ColorScale(scheme='viridis'))], fig_margin={'top': 60, 'bottom': 60, 'left': 60, …"
      ]
     },
     "metadata": {},
     "output_type": "display_data"
    }
   ],
   "source": [
    "# this uses the plt API\n",
    "\n",
    "# get state data FIPS\n",
    "sc_geo = AlbersUSA()\n",
    "# color_data_county maps from FIPS to some value\n",
    "\n",
    "color_scale = ColorScale(scheme='viridis') \n",
    "\n",
    "# dict with FIPS key and data as value\n",
    "color_data = dict(zip(FIPS['FIPS'], FIPS['tests'])) \n",
    "color_data = dict(zip(FIPS['FIPS'], FIPS['normalized_tests'])) \n",
    "color_data = dict(zip(FIPS['FIPS'], FIPS['normalized_deaths'])) \n",
    "\n",
    "map_styles_state = {'color': color_data,\n",
    "                    'scales': {'projection': sc_geo,\n",
    "                               'color': color_scale}}\n",
    "\n",
    "fig = plt.figure(title='Figure')\n",
    "state_map = plt.geo(map_data='USStatesMap', **map_styles_state)\n",
    "\n",
    "fig"
   ]
  },
  {
   "cell_type": "code",
   "execution_count": 22,
   "metadata": {},
   "outputs": [
    {
     "data": {
      "application/vnd.jupyter.widget-view+json": {
       "model_id": "75964565f1ef499fa4ffb16c5224564c",
       "version_major": 2,
       "version_minor": 0
      },
      "text/plain": [
       "Figure(axes=[ColorAxis(scale=ColorScale(scheme='viridis'))], fig_margin={'top': 60, 'bottom': 60, 'left': 60, …"
      ]
     },
     "metadata": {},
     "output_type": "display_data"
    }
   ],
   "source": [
    "import bqplot.marks as bqm\n",
    "import bqplot.scales as bqs\n",
    "import bqplot.axes as bqa\n",
    "import bqplot as bq\n",
    "\n",
    "color_data = dict(zip(FIPS['FIPS'], FIPS['normalized_deaths'])) \n",
    "sc_cl = bqs.ColorScale(scheme='viridis')\n",
    "sc_geo = bqs.AlbersUSA(scale_factor=1200, translate=(500,400))\n",
    "axis = bqa.ColorAxis(scale=sc_cl)\n",
    "map_styles = {'color': color_data,\n",
    "              'scales': {'projection': sc_geo, 'color': sc_cl}, \n",
    "              'colors': {'default_color': 'Grey'}}\n",
    "states_map = bqm.Map(map_data=bqm.topo_load('map_data/USStatesMap.json'), **map_styles)\n",
    "bq.Figure(marks=[states_map], axes=[axis], title='US States Map Example')"
   ]
  },
  {
   "cell_type": "code",
   "execution_count": null,
   "metadata": {},
   "outputs": [],
   "source": []
  }
 ],
 "metadata": {
  "kernelspec": {
   "display_name": "Python 3",
   "language": "python",
   "name": "python3"
  }
 },
 "nbformat": 4,
 "nbformat_minor": 4
}
