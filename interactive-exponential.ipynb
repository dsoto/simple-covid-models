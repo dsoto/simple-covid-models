{
 "cells": [
  {
   "cell_type": "code",
   "execution_count": 1,
   "metadata": {
    "collapsed": false
   },
   "outputs": [
    {
     "name": "stdout",
     "output_type": "stream",
     "text": [
      "ipywidgets version 5.2.2\n",
      "bqplot version 0.8.4\n"
     ]
    }
   ],
   "source": [
    "from bqplot import *\n",
    "import bqplot.marks as bqm\n",
    "import bqplot.scales as bqs\n",
    "import bqplot.axes as bqa\n",
    "import numpy as np\n",
    "import bqplot as bq\n",
    "from IPython.display import display\n",
    "import ipywidgets as widgets\n",
    "\n",
    "print('ipywidgets version', widgets.__version__)\n",
    "print('bqplot version', bq.__version__)"
   ]
  },
  {
   "cell_type": "code",
   "execution_count": 29,
   "metadata": {
    "collapsed": false
   },
   "outputs": [],
   "source": [
    "# set up plot elements\n",
    "sc_x = bqs.LinearScale()\n",
    "sc_y = bqs.LinearScale()\n",
    "\n",
    "def update_plot(*args):\n",
    "    scat.y = np.exp(x_data * slider.value)\n",
    "    fig.title = 'y = exp({} t)'.format(str(slider.value))\n",
    "\n",
    "slider = widgets.FloatSlider(value=0.1, min=0, max=0.2, step=0.01)\n",
    "slider.observe(update_plot, 'value')\n",
    "\n",
    "x_data = np.linspace(0, 50, 50)\n",
    "y_data = np.exp(x_data * slider.value)\n",
    "\n",
    "ax_x = bqa.Axis(scale=sc_x)\n",
    "ax_y = bqa.Axis(scale=sc_y, tick_format='0.2f', orientation='vertical')\n",
    "\n",
    "scat = bqm.Scatter(x=x_data, \n",
    "                   y=y_data, \n",
    "                   scales={'x': sc_x, 'y': sc_y})\n",
    "\n",
    "fig = bq.Figure(marks=[scat], axes=[ax_x, ax_y])\n",
    "\n",
    "box = widgets.VBox([slider, fig])\n",
    "\n",
    "# initialize plot and equation and display\n",
    "display(box)"
   ]
  },
  {
   "cell_type": "code",
   "execution_count": 19,
   "metadata": {
    "collapsed": false
   },
   "outputs": [
    {
     "data": {
      "text/plain": [
       "<function list.index>"
      ]
     },
     "execution_count": 19,
     "metadata": {},
     "output_type": "execute_result"
    }
   ],
   "source": [
    "fig.marks.index"
   ]
  },
  {
   "cell_type": "code",
   "execution_count": 20,
   "metadata": {
    "collapsed": false
   },
   "outputs": [
    {
     "data": {
      "text/plain": [
       "array([1, 2, 3])"
      ]
     },
     "execution_count": 20,
     "metadata": {},
     "output_type": "execute_result"
    }
   ],
   "source": [
    "scat.y = "
   ]
  },
  {
   "cell_type": "code",
   "execution_count": null,
   "metadata": {
    "collapsed": true
   },
   "outputs": [],
   "source": []
  }
 ],
 "metadata": {
  "kernelspec": {
   "display_name": "Python 3",
   "language": "python",
   "name": "python3"
  },
  "language_info": {
   "codemirror_mode": {
    "name": "ipython",
    "version": 3
   },
   "file_extension": ".py",
   "mimetype": "text/x-python",
   "name": "python",
   "nbconvert_exporter": "python",
   "pygments_lexer": "ipython3",
   "version": "3.4.4"
  },
  "widgets": {
   "state": {
    "5973685205f44a2d97c9d11364aa5897": {
     "views": [
      {
       "cell_index": 1
      }
     ]
    }
   },
   "version": "1.2.0"
  }
 },
 "nbformat": 4,
 "nbformat_minor": 0
}
