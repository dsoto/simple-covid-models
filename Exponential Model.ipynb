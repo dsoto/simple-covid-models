{
 "cells": [
  {
   "cell_type": "markdown",
   "metadata": {},
   "source": [
    "# Exponential Model\n",
    "\n",
    "This notebook contains the simplest model (an exponential) that captures the behavior of the virus responsible for covid.  It uses an exponential function\n",
    "\n",
    "$$\\textrm{Cumulative Infections} = \\textrm{Initial Infections}\\cdot e^{\\textrm{Growth Rate}\\cdot t}$$\n",
    "\n",
    "It does not consider\n",
    "\n",
    "- A reducing pool of susceptible individuals slowing the growth rate\n",
    "- An social distancing behaviors in the future\n",
    "\n",
    "It only finds the growth rate for the current US data and continues that trend into the future.\n",
    "\n",
    "We are currently doubling our number of cases every 2.4 days and the growth rate appears steady.\n",
    "\n",
    "If our social distancing strategies are effective, the slope of the dots will decrease showing a slowing of transmission."
   ]
  },
  {
   "cell_type": "code",
   "execution_count": 1,
   "metadata": {},
   "outputs": [],
   "source": [
    "%matplotlib inline\n",
    "import pandas as pd\n",
    "import numpy as np\n",
    "import requests\n",
    "import json"
   ]
  },
  {
   "cell_type": "code",
   "execution_count": 2,
   "metadata": {},
   "outputs": [
    {
     "data": {
      "text/html": [
       "<div>\n",
       "<style scoped>\n",
       "    .dataframe tbody tr th:only-of-type {\n",
       "        vertical-align: middle;\n",
       "    }\n",
       "\n",
       "    .dataframe tbody tr th {\n",
       "        vertical-align: top;\n",
       "    }\n",
       "\n",
       "    .dataframe thead th {\n",
       "        text-align: right;\n",
       "    }\n",
       "</style>\n",
       "<table border=\"1\" class=\"dataframe\">\n",
       "  <thead>\n",
       "    <tr style=\"text-align: right;\">\n",
       "      <th></th>\n",
       "      <th>states</th>\n",
       "      <th>positive</th>\n",
       "      <th>negative</th>\n",
       "      <th>posNeg</th>\n",
       "      <th>pending</th>\n",
       "      <th>death</th>\n",
       "      <th>total</th>\n",
       "    </tr>\n",
       "    <tr>\n",
       "      <th>date</th>\n",
       "      <th></th>\n",
       "      <th></th>\n",
       "      <th></th>\n",
       "      <th></th>\n",
       "      <th></th>\n",
       "      <th></th>\n",
       "      <th></th>\n",
       "    </tr>\n",
       "  </thead>\n",
       "  <tbody>\n",
       "    <tr>\n",
       "      <th>2020-03-12</th>\n",
       "      <td>51</td>\n",
       "      <td>1315</td>\n",
       "      <td>7950</td>\n",
       "      <td>9265</td>\n",
       "      <td>673</td>\n",
       "      <td>36.0</td>\n",
       "      <td>9873</td>\n",
       "    </tr>\n",
       "    <tr>\n",
       "      <th>2020-03-13</th>\n",
       "      <td>51</td>\n",
       "      <td>1922</td>\n",
       "      <td>13513</td>\n",
       "      <td>15435</td>\n",
       "      <td>1130</td>\n",
       "      <td>39.0</td>\n",
       "      <td>16565</td>\n",
       "    </tr>\n",
       "    <tr>\n",
       "      <th>2020-03-14</th>\n",
       "      <td>51</td>\n",
       "      <td>2450</td>\n",
       "      <td>17107</td>\n",
       "      <td>19557</td>\n",
       "      <td>1236</td>\n",
       "      <td>49.0</td>\n",
       "      <td>20795</td>\n",
       "    </tr>\n",
       "    <tr>\n",
       "      <th>2020-03-15</th>\n",
       "      <td>51</td>\n",
       "      <td>3173</td>\n",
       "      <td>22548</td>\n",
       "      <td>25721</td>\n",
       "      <td>2242</td>\n",
       "      <td>60.0</td>\n",
       "      <td>27963</td>\n",
       "    </tr>\n",
       "    <tr>\n",
       "      <th>2020-03-16</th>\n",
       "      <td>56</td>\n",
       "      <td>4019</td>\n",
       "      <td>35840</td>\n",
       "      <td>39859</td>\n",
       "      <td>1691</td>\n",
       "      <td>71.0</td>\n",
       "      <td>41552</td>\n",
       "    </tr>\n",
       "  </tbody>\n",
       "</table>\n",
       "</div>"
      ],
      "text/plain": [
       "            states  positive  negative  posNeg  pending  death  total\n",
       "date                                                                 \n",
       "2020-03-12      51      1315      7950    9265      673   36.0   9873\n",
       "2020-03-13      51      1922     13513   15435     1130   39.0  16565\n",
       "2020-03-14      51      2450     17107   19557     1236   49.0  20795\n",
       "2020-03-15      51      3173     22548   25721     2242   60.0  27963\n",
       "2020-03-16      56      4019     35840   39859     1691   71.0  41552"
      ]
     },
     "execution_count": 2,
     "metadata": {},
     "output_type": "execute_result"
    }
   ],
   "source": [
    "# get US positive observations from covidtracking.com\n",
    "URL = 'https://covidtracking.com/api/us/daily'\n",
    "r = requests.get(URL)\n",
    "data = pd.read_json(json.dumps(r.json()))\n",
    "\n",
    "# wrangle dates\n",
    "data.index = data['date']\n",
    "data.index = pd.to_datetime(data['date'], format='%Y%m%d')\n",
    "del(data['date'])\n",
    "\n",
    "# display data\n",
    "data.tail()"
   ]
  },
  {
   "cell_type": "code",
   "execution_count": 3,
   "metadata": {},
   "outputs": [],
   "source": [
    "# perform exponential fit and create extrapolation\n",
    "\n",
    "# create independent variable of days since start of data\n",
    "days = (data.index - data.index[0]) / np.timedelta64(1, 'D')\n",
    "\n",
    "# take log of independent variable\n",
    "log_positives = np.log(data['positive'])\n",
    "\n",
    "# find least-squares fit coefficients\n",
    "beta, log_initial = np.polyfit(days, log_positives, 1)\n",
    "\n",
    "# create vector of extrapolated positive cases\n",
    "num_days = 20\n",
    "time = np.arange(0, len(data.index) + num_days, 1)\n",
    "extrapolated_positives = np.exp(log_initial) * np.exp(beta * time)\n",
    "\n",
    "# put in pandas series with dates for easy plotting\n",
    "extrapolation_dates = [data.index[0] + np.timedelta64(1, 'D') * t for t in time]\n",
    "extrapolation = pd.Series(index=extrapolation_dates, data=extrapolated_positives)"
   ]
  },
  {
   "cell_type": "code",
   "execution_count": 4,
   "metadata": {},
   "outputs": [
    {
     "data": {
      "text/plain": [
       "2.3673202026439726"
      ]
     },
     "execution_count": 4,
     "metadata": {},
     "output_type": "execute_result"
    }
   ],
   "source": [
    "# doubling time\n",
    "np.log(2)/beta"
   ]
  },
  {
   "cell_type": "code",
   "execution_count": 5,
   "metadata": {},
   "outputs": [
    {
     "data": {
      "text/plain": [
       "7.864067490757457"
      ]
     },
     "execution_count": 5,
     "metadata": {},
     "output_type": "execute_result"
    }
   ],
   "source": [
    "# ten-fold time\n",
    "np.log(10)/beta"
   ]
  },
  {
   "cell_type": "code",
   "execution_count": 8,
   "metadata": {},
   "outputs": [
    {
     "data": {
      "image/png": "[encoded data removed]",
      "text/plain": [
       "<Figure size 432x288 with 1 Axes>"
      ]
     },
     "metadata": {},
     "output_type": "display_data"
    }
   ],
   "source": [
    "import seaborn as sns\n",
    "from matplotlib.dates import MO\n",
    "import matplotlib.pyplot as plt\n",
    "import matplotlib.dates as mdates\n",
    "\n",
    "sns.set()\n",
    "fig, ax = plt.subplots()\n",
    "ax.plot(data.index, data['positive'], marker='o', linestyle='', color='blue', label='Positive Observations')\n",
    "ax.plot(extrapolation.index, extrapolation, color='green', label='Exponential Extrapolation')\n",
    "\n",
    "loc = mdates.WeekdayLocator(byweekday=MO)\n",
    "ax.xaxis.set_major_locator(loc)\n",
    "ax.xaxis.set_major_formatter(mdates.DateFormatter('%b %d'))\n",
    "ax.set_title('US Positive Covid-19 Cases')\n",
    "ax.set_yscale('log')\n",
    "ax.legend()\n",
    "ax.text(0.5, 0.05, 'Data from covidtracking.com', transform=ax.transAxes)\n",
    "ax.grid(True)\n",
    "ax.set_ylabel('Cumulative Positive Cases')\n",
    "plt.savefig('covid-exponential.png')\n",
    "plt.show()\n"
   ]
  },
  {
   "cell_type": "code",
   "execution_count": null,
   "metadata": {
    "collapsed": true
   },
   "outputs": [],
   "source": []
  }
 ],
 "metadata": {
  "kernelspec": {
   "display_name": "Python 3",
   "language": "python",
   "name": "python3"
  },
  "language_info": {
   "codemirror_mode": {
    "name": "ipython",
    "version": 3
   },
   "file_extension": ".py",
   "mimetype": "text/x-python",
   "name": "python",
   "nbconvert_exporter": "python",
   "pygments_lexer": "ipython3",
   "version": "3.8.1"
  }
 },
 "nbformat": 4,
 "nbformat_minor": 1
}
