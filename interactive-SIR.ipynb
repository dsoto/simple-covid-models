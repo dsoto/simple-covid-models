{
 "cells": [
  {
   "cell_type": "code",
   "execution_count": 19,
   "metadata": {},
   "outputs": [
    {
     "name": "stdout",
     "output_type": "stream",
     "text": [
      "ipywidgets version 7.5.1\n",
      "bqplot version 0.12.5\n"
     ]
    }
   ],
   "source": [
    "from bqplot import *\n",
    "import bqplot.marks as bqm\n",
    "import bqplot.scales as bqs\n",
    "import bqplot.axes as bqa\n",
    "import numpy as np\n",
    "import bqplot as bq\n",
    "from IPython.display import display\n",
    "import ipywidgets as widgets\n",
    "from scipy.integrate import odeint\n",
    "\n",
    "print('ipywidgets version', widgets.__version__)\n",
    "print('bqplot version', bq.__version__)"
   ]
  },
  {
   "cell_type": "code",
   "execution_count": 69,
   "metadata": {},
   "outputs": [
    {
     "data": {
      "application/vnd.jupyter.widget-view+json": {
       "model_id": "8ffff786aa354853995fb45563aae9f4",
       "version_major": 2,
       "version_minor": 0
      },
      "text/plain": [
       "VBox(children=(FloatSlider(value=2.0, description='R0', max=5.0, min=1.0, step=0.01), FloatSlider(value=15.0, …"
      ]
     },
     "metadata": {},
     "output_type": "display_data"
    }
   ],
   "source": [
    "# use solve_ivp\n",
    "from scipy.integrate import solve_ivp\n",
    "\n",
    "\n",
    "# TODO: put dates on x-axis\n",
    "\n",
    "\n",
    "# Total population, N.\n",
    "N = 330e6\n",
    "# Initial number of infected and recovered individuals, I0 and R0.\n",
    "I0, R0 = 118, 0\n",
    "# Everyone else, S0, is susceptible to infection initially.\n",
    "S0 = N - I0 - R0\n",
    "# Contact rate, beta, and mean recovery rate, gamma, (in 1/days).\n",
    "beta, gamma = 0.3, 1./14 \n",
    "\n",
    "# The SIR model differential equations.\n",
    "def deriv(t, y, N, beta, gamma):\n",
    "    S, I, R = y\n",
    "    dSdt = -beta * S * I / N\n",
    "    dIdt = beta * S * I / N - gamma * I\n",
    "    dRdt = gamma * I\n",
    "    return dSdt, dIdt, dRdt\n",
    "\n",
    "# Initial conditions vector\n",
    "y0 = S0, I0, R0\n",
    "# Integrate the SIR equations over the time grid, t.\n",
    "#ret = odeint(deriv, y0, t, args=(N, beta, gamma))\n",
    "\n",
    "def update_plot(*args):\n",
    "    gamma = 1/duration_slider.value\n",
    "    beta = R0_slider.value * gamma\n",
    "    ret = solve_ivp(deriv, [0, 300], y0, args=(N, beta, gamma), max_step=2)\n",
    "    S, I, R = ret.y\n",
    "    scat_I.y = I/1e6\n",
    "    scat_S.y = S/1e6\n",
    "    scat_R.y = R/1e6\n",
    "    days = ret.t\n",
    "    initial_date = np.datetime64('2020-03-04')\n",
    "    dates = [initial_date + np.timedelta64(1, 'D') * t for t in days]\n",
    "    scat_I.x = dates\n",
    "    scat_S.x = dates\n",
    "    scat_R.x = dates\n",
    "\n",
    "R0_slider = widgets.FloatSlider(value=2.0, min=1.0, max=5.0, step=0.01, description='R0')\n",
    "R0_slider.observe(update_plot, 'value')\n",
    "duration_slider = widgets.FloatSlider(value=15, min=10, max=20, step=0.01, description='duration')\n",
    "duration_slider.observe(update_plot, 'value')\n",
    "\n",
    "sc_x = bqs.LinearScale()\n",
    "sc_x = bqs.DateScale()\n",
    "sc_y = bqs.LinearScale()\n",
    "\n",
    "gamma = 1/duration_slider.value\n",
    "beta = R0_slider.value * gamma\n",
    "\n",
    "simulation = solve_ivp(deriv, [0,300], y0, args=(N, beta, gamma), max_step=2)\n",
    "S, I, R = simulation.y\n",
    "days = simulation.t\n",
    "initial_date = np.datetime64('2020-03-04')\n",
    "dates = [initial_date + np.timedelta64(1, 'D') * t for t in days]\n",
    "\n",
    "\n",
    "\n",
    "scat_I = bqm.Lines(x=dates, y=I/1e6, scales={'x': sc_x, 'y': sc_y}, colors=['red'], labels=['Infected'], display_legend=True)\n",
    "scat_S = bqm.Lines(x=dates, y=S/1e6, scales={'x': sc_x, 'y': sc_y}, colors=['blue'], labels=['Susceptible'], display_legend=True)\n",
    "scat_R = bqm.Lines(x=dates, y=R/1e6, scales={'x': sc_x, 'y': sc_y}, colors=['green'], labels=['Removed'], display_legend=True)\n",
    "\n",
    "fig = bq.Figure(marks=[scat_I, scat_S, scat_R], \n",
    "                axes=[bqa.Axis(scale=sc_x), \n",
    "                      bqa.Axis(scale=sc_y, label='Population (millions)', orientation='vertical')],\n",
    "                legend_location='right')\n",
    "\n",
    "box = widgets.VBox([R0_slider, duration_slider, fig])\n",
    "\n",
    "display(box)\n"
   ]
  },
  {
   "cell_type": "code",
   "execution_count": null,
   "metadata": {},
   "outputs": [],
   "source": []
  }
 ],
 "metadata": {
  "kernelspec": {
   "display_name": "Python 3",
   "language": "python",
   "name": "python3"
  },
  "language_info": {
   "codemirror_mode": {
    "name": "ipython",
    "version": 3
   },
   "file_extension": ".py",
   "mimetype": "text/x-python",
   "name": "python",
   "nbconvert_exporter": "python",
   "pygments_lexer": "ipython3",
   "version": "3.8.1"
  },
  "widgets": {
   "state": {
    "90c7a773326c4706b933f420dae6b377": {
     "views": [
      {
       "cell_index": 1
      }
     ]
    }
   },
   "version": "1.2.0"
  }
 },
 "nbformat": 4,
 "nbformat_minor": 4
}
