{
 "cells": [
  {
   "cell_type": "code",
   "execution_count": 7,
   "metadata": {},
   "outputs": [],
   "source": [
    "# by county animated choropleth\n",
    "import pandas as pd\n",
    "\n",
    "# county data from nytimes\n",
    "\n",
    "def download_nytimes_county_data():\n",
    "    URL = 'https://raw.githubusercontent.com/nytimes/covid-19-data/master/us-counties.csv'\n",
    "    return pd.read_csv(URL)\n",
    "# create scale\n",
    "# can do deaths or cases in dropdown?\n",
    "\n",
    "# make date slider and play button\n",
    "county_data = download_nytimes_county_data()"
   ]
  },
  {
   "cell_type": "code",
   "execution_count": 22,
   "metadata": {},
   "outputs": [
    {
     "data": {
      "text/html": [
       "<div>\n",
       "<style scoped>\n",
       "    .dataframe tbody tr th:only-of-type {\n",
       "        vertical-align: middle;\n",
       "    }\n",
       "\n",
       "    .dataframe tbody tr th {\n",
       "        vertical-align: top;\n",
       "    }\n",
       "\n",
       "    .dataframe thead th {\n",
       "        text-align: right;\n",
       "    }\n",
       "</style>\n",
       "<table border=\"1\" class=\"dataframe\">\n",
       "  <thead>\n",
       "    <tr style=\"text-align: right;\">\n",
       "      <th></th>\n",
       "      <th>date</th>\n",
       "      <th>county</th>\n",
       "      <th>state</th>\n",
       "      <th>cases</th>\n",
       "      <th>deaths</th>\n",
       "    </tr>\n",
       "    <tr>\n",
       "      <th>fips</th>\n",
       "      <th></th>\n",
       "      <th></th>\n",
       "      <th></th>\n",
       "      <th></th>\n",
       "      <th></th>\n",
       "    </tr>\n",
       "  </thead>\n",
       "  <tbody>\n",
       "    <tr>\n",
       "      <th>1001</th>\n",
       "      <td>2020-03-28</td>\n",
       "      <td>Autauga</td>\n",
       "      <td>Alabama</td>\n",
       "      <td>6</td>\n",
       "      <td>0</td>\n",
       "    </tr>\n",
       "    <tr>\n",
       "      <th>1003</th>\n",
       "      <td>2020-03-28</td>\n",
       "      <td>Baldwin</td>\n",
       "      <td>Alabama</td>\n",
       "      <td>10</td>\n",
       "      <td>0</td>\n",
       "    </tr>\n",
       "    <tr>\n",
       "      <th>1009</th>\n",
       "      <td>2020-03-28</td>\n",
       "      <td>Blount</td>\n",
       "      <td>Alabama</td>\n",
       "      <td>5</td>\n",
       "      <td>0</td>\n",
       "    </tr>\n",
       "    <tr>\n",
       "      <th>1011</th>\n",
       "      <td>2020-03-28</td>\n",
       "      <td>Bullock</td>\n",
       "      <td>Alabama</td>\n",
       "      <td>3</td>\n",
       "      <td>0</td>\n",
       "    </tr>\n",
       "    <tr>\n",
       "      <th>1013</th>\n",
       "      <td>2020-03-28</td>\n",
       "      <td>Butler</td>\n",
       "      <td>Alabama</td>\n",
       "      <td>1</td>\n",
       "      <td>0</td>\n",
       "    </tr>\n",
       "  </tbody>\n",
       "</table>\n",
       "</div>"
      ],
      "text/plain": [
       "            date   county    state  cases  deaths\n",
       "fips                                             \n",
       "1001  2020-03-28  Autauga  Alabama      6       0\n",
       "1003  2020-03-28  Baldwin  Alabama     10       0\n",
       "1009  2020-03-28   Blount  Alabama      5       0\n",
       "1011  2020-03-28  Bullock  Alabama      3       0\n",
       "1013  2020-03-28   Butler  Alabama      1       0"
      ]
     },
     "execution_count": 22,
     "metadata": {},
     "output_type": "execute_result"
    }
   ],
   "source": [
    "select_date = county_data['date'].max()\n",
    "selected_county_data = county_data[county_data['date'] == select_date]\n",
    "selected_county_data = selected_county_data.dropna()\n",
    "selected_county_data['fips'] = selected_county_data['fips'].astype('int').astype('str')\n",
    "\n",
    "selected_county_data = selected_county_data.set_index('fips')\n",
    "selected_county_data.head()"
   ]
  },
  {
   "cell_type": "code",
   "execution_count": 26,
   "metadata": {},
   "outputs": [],
   "source": [
    "color_data = selected_county_data['deaths'].to_dict()"
   ]
  },
  {
   "cell_type": "code",
   "execution_count": 27,
   "metadata": {},
   "outputs": [
    {
     "data": {
      "application/vnd.jupyter.widget-view+json": {
       "model_id": "5ccbccc16ce54e90a751db6a3d05bb24",
       "version_major": 2,
       "version_minor": 0
      },
      "text/plain": [
       "VBox(children=(Figure(axes=[ColorAxis(num_ticks=5, scale=ColorScale(scheme='viridis'))], fig_margin={'top': 60…"
      ]
     },
     "metadata": {},
     "output_type": "display_data"
    }
   ],
   "source": [
    "# plotting imports\n",
    "import bqplot.marks as bqm\n",
    "import bqplot.scales as bqs\n",
    "import bqplot.axes as bqa\n",
    "import bqplot as bq\n",
    "import ipywidgets as widgets\n",
    "from IPython.display import display\n",
    "\n",
    "sc_cl = bqs.ColorScale(scheme='viridis')\n",
    "sc_geo = bqs.AlbersUSA(scale_factor=1200, translate=(500,400))\n",
    "axis = bqa.ColorAxis(scale=sc_cl, num_ticks=5)\n",
    "map_styles = {'color': color_data,\n",
    "              'scales': {'projection': sc_geo, 'color': sc_cl}, \n",
    "              'colors': {'default_color': 'Grey'}}\n",
    "states_map = bqm.Map(map_data=bqm.topo_load('map_data/USCountiesMap.json'), **map_styles)\n",
    "\n",
    "fig = bq.Figure(marks=[states_map], axes=[axis], title='Cases by County')\n",
    "box = widgets.VBox([fig])\n",
    "display(box)"
   ]
  },
  {
   "cell_type": "code",
   "execution_count": null,
   "metadata": {},
   "outputs": [],
   "source": []
  }
 ],
 "metadata": {
  "kernelspec": {
   "display_name": "Python 3",
   "language": "python",
   "name": "python3"
  },
  "language_info": {
   "codemirror_mode": {
    "name": "ipython",
    "version": 3
   },
   "file_extension": ".py",
   "mimetype": "text/x-python",
   "name": "python",
   "nbconvert_exporter": "python",
   "pygments_lexer": "ipython3",
   "version": "3.8.1"
  }
 },
 "nbformat": 4,
 "nbformat_minor": 4
}
