{
 "cells": [
  {
   "cell_type": "code",
   "execution_count": 1,
   "metadata": {},
   "outputs": [],
   "source": [
    "from bqplot import Tooltip, AlbersUSA, OrdinalColorScale, ColorAxis, ColorScale\n",
    "import pandas as pd\n",
    "import numpy as np\n",
    "from bqplot import pyplot as plt"
   ]
  },
  {
   "cell_type": "code",
   "execution_count": 35,
   "metadata": {},
   "outputs": [
    {
     "data": {
      "text/html": [
       "<div>\n",
       "<style scoped>\n",
       "    .dataframe tbody tr th:only-of-type {\n",
       "        vertical-align: middle;\n",
       "    }\n",
       "\n",
       "    .dataframe tbody tr th {\n",
       "        vertical-align: top;\n",
       "    }\n",
       "\n",
       "    .dataframe thead th {\n",
       "        text-align: right;\n",
       "    }\n",
       "</style>\n",
       "<table border=\"1\" class=\"dataframe\">\n",
       "  <thead>\n",
       "    <tr style=\"text-align: right;\">\n",
       "      <th></th>\n",
       "      <th>Name</th>\n",
       "      <th>FIPS</th>\n",
       "      <th>USPS</th>\n",
       "      <th>deaths</th>\n",
       "      <th>tests</th>\n",
       "      <th>positive</th>\n",
       "      <th>populations</th>\n",
       "      <th>normalized_deaths</th>\n",
       "      <th>normalized_tests</th>\n",
       "      <th>case_fatality_ratio</th>\n",
       "      <th>positive_ratio</th>\n",
       "      <th>normalized_cases</th>\n",
       "    </tr>\n",
       "    <tr>\n",
       "      <th>USPS</th>\n",
       "      <th></th>\n",
       "      <th></th>\n",
       "      <th></th>\n",
       "      <th></th>\n",
       "      <th></th>\n",
       "      <th></th>\n",
       "      <th></th>\n",
       "      <th></th>\n",
       "      <th></th>\n",
       "      <th></th>\n",
       "      <th></th>\n",
       "      <th></th>\n",
       "    </tr>\n",
       "  </thead>\n",
       "  <tbody>\n",
       "    <tr>\n",
       "      <th>AL</th>\n",
       "      <td>Alabama</td>\n",
       "      <td>1</td>\n",
       "      <td>AL</td>\n",
       "      <td>3.0</td>\n",
       "      <td>4823</td>\n",
       "      <td>639</td>\n",
       "      <td>4903185</td>\n",
       "      <td>6.118472e-07</td>\n",
       "      <td>0.000984</td>\n",
       "      <td>0.004695</td>\n",
       "      <td>0.132490</td>\n",
       "      <td>0.000130</td>\n",
       "    </tr>\n",
       "    <tr>\n",
       "      <th>AK</th>\n",
       "      <td>Alaska</td>\n",
       "      <td>2</td>\n",
       "      <td>AK</td>\n",
       "      <td>2.0</td>\n",
       "      <td>2921</td>\n",
       "      <td>85</td>\n",
       "      <td>731545</td>\n",
       "      <td>2.733940e-06</td>\n",
       "      <td>0.003993</td>\n",
       "      <td>0.023529</td>\n",
       "      <td>0.029100</td>\n",
       "      <td>0.000116</td>\n",
       "    </tr>\n",
       "    <tr>\n",
       "      <th>AZ</th>\n",
       "      <td>Arizona</td>\n",
       "      <td>4</td>\n",
       "      <td>AZ</td>\n",
       "      <td>13.0</td>\n",
       "      <td>8193</td>\n",
       "      <td>738</td>\n",
       "      <td>7278717</td>\n",
       "      <td>1.786029e-06</td>\n",
       "      <td>0.001126</td>\n",
       "      <td>0.017615</td>\n",
       "      <td>0.090077</td>\n",
       "      <td>0.000101</td>\n",
       "    </tr>\n",
       "    <tr>\n",
       "      <th>AR</th>\n",
       "      <td>Arkansas</td>\n",
       "      <td>5</td>\n",
       "      <td>AR</td>\n",
       "      <td>3.0</td>\n",
       "      <td>3269</td>\n",
       "      <td>386</td>\n",
       "      <td>3017804</td>\n",
       "      <td>9.941003e-07</td>\n",
       "      <td>0.001083</td>\n",
       "      <td>0.007772</td>\n",
       "      <td>0.118079</td>\n",
       "      <td>0.000128</td>\n",
       "    </tr>\n",
       "    <tr>\n",
       "      <th>CA</th>\n",
       "      <td>California</td>\n",
       "      <td>6</td>\n",
       "      <td>CA</td>\n",
       "      <td>78.0</td>\n",
       "      <td>21259</td>\n",
       "      <td>3879</td>\n",
       "      <td>39512223</td>\n",
       "      <td>1.974073e-06</td>\n",
       "      <td>0.000538</td>\n",
       "      <td>0.020108</td>\n",
       "      <td>0.182464</td>\n",
       "      <td>0.000098</td>\n",
       "    </tr>\n",
       "  </tbody>\n",
       "</table>\n",
       "</div>"
      ],
      "text/plain": [
       "            Name  FIPS USPS  deaths  tests  positive  populations  \\\n",
       "USPS                                                                \n",
       "AL       Alabama     1   AL     3.0   4823       639      4903185   \n",
       "AK        Alaska     2   AK     2.0   2921        85       731545   \n",
       "AZ       Arizona     4   AZ    13.0   8193       738      7278717   \n",
       "AR      Arkansas     5   AR     3.0   3269       386      3017804   \n",
       "CA    California     6   CA    78.0  21259      3879     39512223   \n",
       "\n",
       "      normalized_deaths  normalized_tests  case_fatality_ratio  \\\n",
       "USPS                                                             \n",
       "AL         6.118472e-07          0.000984             0.004695   \n",
       "AK         2.733940e-06          0.003993             0.023529   \n",
       "AZ         1.786029e-06          0.001126             0.017615   \n",
       "AR         9.941003e-07          0.001083             0.007772   \n",
       "CA         1.974073e-06          0.000538             0.020108   \n",
       "\n",
       "      positive_ratio  normalized_cases  \n",
       "USPS                                    \n",
       "AL          0.132490          0.000130  \n",
       "AK          0.029100          0.000116  \n",
       "AZ          0.090077          0.000101  \n",
       "AR          0.118079          0.000128  \n",
       "CA          0.182464          0.000098  "
      ]
     },
     "execution_count": 35,
     "metadata": {},
     "output_type": "execute_result"
    }
   ],
   "source": [
    "import requests\n",
    "URL = 'https://covidtracking.com/api/states'\n",
    "r = requests.get(URL)\n",
    "import json\n",
    "covid = pd.read_json(json.dumps(r.json()))\n",
    "covid.index = covid['state']\n",
    "deaths = covid['death']\n",
    "tests = covid['totalTestResults']\n",
    "positive = covid['positive']\n",
    "\n",
    "# merge deaths with FIPS\n",
    "\n",
    "FIPS = pd.read_csv('states.csv')\n",
    "FIPS.index = FIPS['USPS']\n",
    "FIPS\n",
    "FIPS['deaths'] = deaths\n",
    "FIPS['tests'] = tests\n",
    "FIPS['positive'] = positive\n",
    "\n",
    "# create a series of populations\n",
    "# create a column of normalized deaths\n",
    "\n",
    "populations = pd.read_excel('state-populations.xlsx', index_col='State')\n",
    "populations = populations['population']\n",
    "FIPS['populations'] = populations\n",
    "FIPS['normalized_deaths'] = FIPS['deaths']/FIPS['populations']\n",
    "FIPS['normalized_tests'] = FIPS['tests']/FIPS['populations']\n",
    "FIPS['case_fatality_ratio'] = FIPS['deaths']/FIPS['positive']\n",
    "FIPS['positive_ratio'] = FIPS['positive'] / FIPS['tests']\n",
    "FIPS['normalized_cases'] = FIPS['positive'] / FIPS['populations']\n",
    "FIPS.head()\n",
    "#covid.head()"
   ]
  },
  {
   "cell_type": "code",
   "execution_count": 45,
   "metadata": {},
   "outputs": [
    {
     "data": {
      "application/vnd.jupyter.widget-view+json": {
       "model_id": "4c1cf3a6ad3d4e95a16d064345eb1b8e",
       "version_major": 2,
       "version_minor": 0
      },
      "text/plain": [
       "VBox(children=(Figure(axes=[ColorAxis(num_ticks=5, scale=ColorScale(scheme='viridis'))], fig_margin={'top': 60…"
      ]
     },
     "metadata": {},
     "output_type": "display_data"
    }
   ],
   "source": [
    "# with widget\n",
    "\n",
    "import bqplot.marks as bqm\n",
    "import bqplot.scales as bqs\n",
    "import bqplot.axes as bqa\n",
    "import bqplot as bq\n",
    "import ipywidgets as widgets\n",
    "from IPython.display import display\n",
    "\n",
    "def update_plot(*args):\n",
    "    color_data = dict(zip(FIPS['FIPS'], FIPS[dropdown.value]))\n",
    "        \n",
    "    sc_cl = bqs.ColorScale(scheme='viridis')\n",
    "    axis = bqa.ColorAxis(scale=sc_cl, num_ticks=5)\n",
    "    map_styles = {'color': color_data,\n",
    "              'scales': {'projection': sc_geo, 'color': sc_cl}, \n",
    "              'colors': {'default_color': 'Grey'}}\n",
    "    states_map = bqm.Map(map_data=bqm.topo_load('map_data/USStatesMap.json'), **map_styles)\n",
    "    fig.marks = [states_map]\n",
    "    fig.axes = [axis]\n",
    "    \n",
    "dropdown = widgets.Dropdown(options=['normalized_deaths', 'deaths', \n",
    "                                     'tests', 'normalized_tests', \n",
    "                                     'case_fatality_ratio', 'positive_ratio',\n",
    "                                     'normalized_cases', 'positive'])\n",
    "dropdown.observe(update_plot, 'value')\n",
    "\n",
    "\n",
    "\n",
    "color_data = dict(zip(FIPS['FIPS'], FIPS['normalized_deaths'])) \n",
    "sc_cl = bqs.ColorScale(scheme='viridis')\n",
    "sc_geo = bqs.AlbersUSA(scale_factor=1200, translate=(500,400))\n",
    "# TODO: better axis ticks\n",
    "axis = bqa.ColorAxis(scale=sc_cl, tick_values=[0, 1e-5, 2e-5])\n",
    "axis = bqa.ColorAxis(scale=sc_cl, num_ticks=5)\n",
    "map_styles = {'color': color_data,\n",
    "              'scales': {'projection': sc_geo, 'color': sc_cl}, \n",
    "              'colors': {'default_color': 'Grey'}}\n",
    "states_map = bqm.Map(map_data=bqm.topo_load('map_data/USStatesMap.json'), **map_styles)\n",
    "\n",
    "fig = bq.Figure(marks=[states_map], axes=[axis], title='COVID Metrics By State')\n",
    "\n",
    "box = widgets.VBox([fig, dropdown])\n",
    "\n",
    "display(box)"
   ]
  },
  {
   "cell_type": "code",
   "execution_count": 3,
   "metadata": {},
   "outputs": [
    {
     "data": {
      "application/vnd.jupyter.widget-view+json": {
       "model_id": "aff3bfde90114f14b1ffa7dabf87deeb",
       "version_major": 2,
       "version_minor": 0
      },
      "text/plain": [
       "Figure(axes=[ColorAxis(scale=ColorScale(scheme='viridis'))], fig_margin={'top': 60, 'bottom': 60, 'left': 60, …"
      ]
     },
     "metadata": {},
     "output_type": "display_data"
    }
   ],
   "source": [
    "import bqplot.marks as bqm\n",
    "import bqplot.scales as bqs\n",
    "import bqplot.axes as bqa\n",
    "import bqplot as bq\n",
    "\n",
    "color_data = dict(zip(FIPS['FIPS'], FIPS['normalized_deaths'])) \n",
    "sc_cl = bqs.ColorScale(scheme='viridis')\n",
    "sc_geo = bqs.AlbersUSA(scale_factor=1200, translate=(500,400))\n",
    "axis = bqa.ColorAxis(scale=sc_cl)\n",
    "map_styles = {'color': color_data,\n",
    "              'scales': {'projection': sc_geo, 'color': sc_cl}, \n",
    "              'colors': {'default_color': 'Grey'}}\n",
    "states_map = bqm.Map(map_data=bqm.topo_load('map_data/USStatesMap.json'), **map_styles)\n",
    "bq.Figure(marks=[states_map], axes=[axis], title='US States Map Example')"
   ]
  },
  {
   "cell_type": "code",
   "execution_count": null,
   "metadata": {},
   "outputs": [],
   "source": [
    "# could do a table or something here with a hover\n",
    "def respond_to_hover(self, target):\n",
    "    print(target)\n",
    "states_map.on_hover(respond_to_hover)\n"
   ]
  },
  {
   "cell_type": "code",
   "execution_count": 23,
   "metadata": {},
   "outputs": [
    {
     "data": {
      "text/plain": [
       "b'<!DOCTYPE html>\\n<!--[if lt IE 7]> <html class=\"no-js ie6 oldie\" lang=\"en-US\"> <![endif]-->\\n<!--[if IE 7]>    <html class=\"no-js ie7 oldie\" lang=\"en-US\"> <![endif]-->\\n<!--[if IE 8]>    <html class=\"no-js ie8 oldie\" lang=\"en-US\"> <![endif]-->\\n<!--[if gt IE 8]><!--> <html class=\"no-js\" lang=\"en-US\"> <!--<![endif]-->\\n<head>\\n<title>Attention Required! | Cloudflare</title>\\n\\n<meta charset=\"UTF-8\" />\\n<meta http-equiv=\"Content-Type\" content=\"text/html; charset=UTF-8\" />\\n<meta http-equiv=\"X-UA-Compatible\" content=\"IE=Edge,chrome=1\" />\\n<meta name=\"robots\" content=\"noindex, nofollow\" />\\n<meta name=\"viewport\" content=\"width=device-width,initial-scale=1,maximum-scale=1\" />\\n<link rel=\"stylesheet\" id=\"cf_styles-css\" href=\"/cdn-cgi/styles/cf.errors.css\" type=\"text/css\" media=\"screen,projection\" />\\n<!--[if lt IE 9]><link rel=\"stylesheet\" id=\\'cf_styles-ie-css\\' href=\"/cdn-cgi/styles/cf.errors.ie.css\" type=\"text/css\" media=\"screen,projection\" /><![endif]-->\\n<style type=\"text/css\">body{margin:0;padding:0}</style>\\n\\n\\n<!--[if gte IE 10]><!--><script type=\"text/javascript\" src=\"/cdn-cgi/scripts/zepto.min.js\"></script><!--<![endif]-->\\n<!--[if gte IE 10]><!--><script type=\"text/javascript\" src=\"/cdn-cgi/scripts/cf.common.js\"></script><!--<![endif]-->\\n\\n\\n\\n\\n</head>\\n<body>\\n  <div id=\"cf-wrapper\">\\n    <div class=\"cf-alert cf-alert-error cf-cookie-error\" id=\"cookie-alert\" data-translate=\"enable_cookies\">Please enable cookies.</div>\\n    <div id=\"cf-error-details\" class=\"cf-error-details-wrapper\">\\n      <div class=\"cf-wrapper cf-header cf-error-overview\">\\n        <h1 data-translate=\"challenge_headline\">One more step</h1>\\n        <h2 class=\"cf-subheadline\"><span data-translate=\"complete_sec_check\">Please complete the security check to access</span> datausa.io</h2>\\n      </div><!-- /.header -->\\n      \\n      <div class=\"cf-section cf-highlight cf-captcha-container\">\\n        <div class=\"cf-wrapper\">\\n          <div class=\"cf-columns two\">\\n            <div class=\"cf-column\">\\n            \\n              <div class=\"cf-highlight-inverse cf-form-stacked\">\\n                <form class=\"challenge-form\" id=\"challenge-form\" action=\"/api/data?drilldowns=Nation&amp;measures=Population&amp;year=latest&amp;__cf_chl_captcha_tk__=e32886297ffc20e842b821e0ceaf2cfca8ad5bb4-1585378135-0-ATeml0Ut_-zSZ0_N4Z0HJA-3Nd0cMW9-T2hjcXO4wtu9h1yylTGd_foBm2MauErddUyw-bmOpINFUtuhcO-qS_6RiKH1FAgLSyNIlF3T2-26-h7J4Y2QFcv0EEJRkaDEoErx9GE9PPjOBlBGFFax3JiQ_ChEDy4QJLbpwP8ACd0jBP9MXnjWYN_o7K2a4nBNHrUFkWcO9lrKl57L-ynwHkCYrsAEeE8xqRrtq892Ce5JddFvVMqgg1bqxRcGafNah2yeHjlmy23zxDOgvpaZeOVV6T4MTnBfw01tCXR3wORSrlDaqyfkEOrjbcFOM8o4w2cwkMlXb1K6Cd2oElRcaPWSrN4nuYK0suL4T644NyWx_svTaNvnppjX3iHFzsalmnym5VOunFiQPuN7j9ZLXCVyeAMclWeJ7_RcBAjX0HZ3_yFe9g6_oA2wUrvOB_8s1TrYDq8H9ezsKyBqbGna_3G-4acdPbDCU6b9m5VYcookmcfz7nfzgDrafeL6IrPz-gogvYg75YB0cLdHPmRGyNzVM9BwTdPH6Wy22nmNBvCuOeQ4lMmRxGCEOkdgtBKFrqNPDM8J4TVEYO1bSrwYVJC7G45B3v9qlWKDjB8dJ__wKFeR41daF1k8-KZT2KWdTg\" method=\"POST\" enctype=\"application/x-www-form-urlencoded\">\\n  <input type=\"hidden\" name=\"r\" value=\"26a2b6f0ce82833329160b9061aeb44e0f5da690-1585378135-0-AbCvYwQ98IpbzzBLXGkeZsTluWY4Boy7s8UxGudILSmLjI/MVsSk0aeUCNb4/vyoSNXT4EcTv1ifV4NcVUZXlBTJBXlYqgL1c1wKLUblK6mg6bYF18121ohqqNIL7VawJE5AlTgkoJcpgGEk8VBvjP5xj+TfM3H3+ilQWa5xDJsTvF0KdnBm9Ozt5zhh1IE26pEnLpMMFoX5rM9+rTnb56xk5v/xupZSWJvadAiPZSqn1fSeOGSJ/GHmkoMwUvWzUjw5yaAnJCxIPtQ5T80rrtYCNr2wSys4NewbxCy8iGMdT3FXmbcUtcxfNrVb9d2wWN6YPfBP1cL8zM2yvr7l+cm6su+eK+KJN2uSK3wCHL0irD+fw2EZeXE9/ZlovttsyommmM6rcgZflAvZiU8uKDDaOB6h3yoVerqvWg221mRgu3F7dqI/k7vTYBr9zq5aY2FRD5X637sRRgbdvhpkt7txmI6ZMfjTODQ0uc0apZ6VsG4RgncjAToXAr57ThMqdaBlVFcqfe9qY8lzuKvABoq+m96rSHnMUziyggCqpWc73Lm6u11GnOgVwXNvGRERizWa4S2OVIuQKUNDw/y8ZMEhrXJf1biEggUC5KP3d66KvalIZtHIhvV8BuKjtYKsWLnz/JtBM+5BlrkzUKgfdY3skG/gJnJkVJ0DyUEDcx3LgIsDJDe9IDIZZcMXzpzXpewb2uW9oWLYwc6mq5Gd+PDybZg1J4209o0VkKYWFlRLARQHDALKQAStc1tyAzz4yxIlcV5ZYlnidpkhwcUjfvN6UNz3H4PohCxXG9EiKOlhWEhiGxs5KLTlBdv20fDsSvxiBzT4MOgbKjnsAtVaNuutopL3Rb21orpiOieV7IGHyUFd4sU9keQwPIVnGqWmoXbH28syrqFVoQKo/JQr2iYTL6bmR0YruaMoq2LijnVc2lBqo5GJfVLqKEETMpgZ9ONdrSQKUyqkqVL1aT3rNGrl76AsSuHUvJjQLlFpMZKZtGNgRKxvSyssSVCGTT83DNS+hoYRQWkdIfY9WIfR1fDS4M6XK1Bx8K2RcUoeY1jJhQ7GCXRC+FiYLYczrLO32G6anGeSd5GeBXRn90vvMIyVNVfq79q2JUVdDI+EqU8BDXpm67ARXX+Pm1ssacv5EtXcbQ7tFr0ytjSxxnUTNuBN2QxbruTursi8MF9dfGeRezkISHX4ueP1gMHJK2i//0NL0J38KWZ+e9dR5ugFXduxdI86MxEAAvTsLBpnL0KQgQFWQRZUBwamgayqmPz4p07+g57dRmKmII1YZaAUogFbRwA1s/5WpR8W4uJ70MGxgNAM97K33JOIi5J3YnqkI8B87oeZg8o9nYbJ3tt4Ts4=\">\\n  <input type=\"hidden\" name=\"cf_captcha_kind\" value=\"h\">\\n  <script type=\"text/javascript\" src=\"/cdn-cgi/scripts/hcaptcha.challenge.js\" data-type=\"normal\"  data-ray=\"57af6880982ced3b\" async data-sitekey=\"45fbc4de-366c-40ef-9274-9f3feca1cd6c\"></script>\\n  <noscript id=\"cf-captcha-bookmark\" class=\"cf-captcha-info\">\\n  <h1 data-translate=\"turn_on_js\" style=\"color:#bd2426;\">Please turn JavaScript on and reload the page.</h1>\\n  </noscript>\\n  <div id=\"trk_captcha_js\" style=\"background-image:url(\\'/cdn-cgi/images/trace/captcha/nojs/h/transparent.gif?ray=57af6880982ced3b\\')\"></div>\\n</form>\\n\\n              </div>\\n            </div>\\n\\n            <div class=\"cf-column\">\\n              <div class=\"cf-screenshot-container\">\\n              \\n                <span class=\"cf-no-screenshot\"></span>\\n              \\n              </div>\\n            </div>\\n          </div><!-- /.columns -->\\n        </div>\\n      </div><!-- /.captcha-container -->\\n\\n      <div class=\"cf-section cf-wrapper\">\\n        <div class=\"cf-columns two\">\\n          <div class=\"cf-column\">\\n            <h2 data-translate=\"why_captcha_headline\">Why do I have to complete a CAPTCHA?</h2>\\n            \\n            <p data-translate=\"why_captcha_detail\">Completing the CAPTCHA proves you are a human and gives you temporary access to the web property.</p>\\n          </div>\\n\\n          <div class=\"cf-column\">\\n            <h2 data-translate=\"resolve_captcha_headline\">What can I do to prevent this in the future?</h2>\\n            \\n\\n            <p data-translate=\"resolve_captcha_antivirus\">If you are on a personal connection, like at home, you can run an anti-virus scan on your device to make sure it is not infected with malware.</p>\\n\\n            <p data-translate=\"resolve_captcha_network\">If you are at an office or shared network, you can ask the network administrator to run a scan across the network looking for misconfigured or infected devices.</p>\\n            \\n          </div>\\n        </div>\\n      </div><!-- /.section -->\\n      \\n\\n      <div class=\"cf-error-footer cf-wrapper\">\\n  <p>\\n    <span class=\"cf-footer-item\">Cloudflare Ray ID: <strong>57af6880982ced3b</strong></span>\\n    <span class=\"cf-footer-separator\">&bull;</span>\\n    <span class=\"cf-footer-item\"><span>Your IP</span>: 2600:1700:8d70:60a0:c8d0:bf82:d62d:9b0a</span>\\n    <span class=\"cf-footer-separator\">&bull;</span>\\n    <span class=\"cf-footer-item\"><span>Performance &amp; security by</span> <a href=\"https://www.cloudflare.com/5xx-error-landing?utm_source=error_footer\" id=\"brand_link\" target=\"_blank\">Cloudflare</a></span>\\n    \\n  </p>\\n</div><!-- /.error-footer -->\\n\\n\\n    </div><!-- /#cf-error-details -->\\n  </div><!-- /#cf-wrapper -->\\n\\n  <script type=\"text/javascript\">\\n  window._cf_translation = {};\\n  \\n  \\n</script>\\n\\n\\n</body>\\n</html>\\n'"
      ]
     },
     "execution_count": 23,
     "metadata": {},
     "output_type": "execute_result"
    }
   ],
   "source": [
    "# why does this require a captcha?\n",
    "URL = 'http://datausa.io/api/data?drilldowns=State&measures=Population&year=latest'\n",
    "URL = 'https://datausa.io/api/data?drilldowns=Nation&measures=Population&year=latest'\n",
    "import requests\n",
    "r = requests.get(URL)\n",
    "r.content"
   ]
  },
  {
   "cell_type": "code",
   "execution_count": null,
   "metadata": {},
   "outputs": [],
   "source": []
  }
 ],
 "metadata": {
  "kernelspec": {
   "display_name": "Python 3",
   "language": "python",
   "name": "python3"
  },
  "language_info": {
   "codemirror_mode": {
    "name": "ipython",
    "version": 3
   },
   "file_extension": ".py",
   "mimetype": "text/x-python",
   "name": "python",
   "nbconvert_exporter": "python",
   "pygments_lexer": "ipython3",
   "version": "3.8.1"
  }
 },
 "nbformat": 4,
 "nbformat_minor": 4
}
