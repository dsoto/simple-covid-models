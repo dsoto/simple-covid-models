{
 "cells": [
  {
   "cell_type": "code",
   "execution_count": 1,
   "metadata": {},
   "outputs": [],
   "source": [
    "# download covid tracking\n",
    "# download state populations and FIPS\n",
    "# iterate over states\n",
    "    # compute fits\n",
    "    # create dict with FIPS and doubling time\n",
    "# feed growth rate to map\n",
    "\n",
    "import requests\n",
    "import pandas as pd\n",
    "import numpy as np\n",
    "import json\n",
    "\n",
    "def download_covidtracking():\n",
    "    URL = 'https://covidtracking.com/api/states/daily'\n",
    "    r = requests.get(URL)\n",
    "    sd = pd.read_json(json.dumps(r.json()))\n",
    "    sd['date'] = pd.to_datetime(sd['date'], format='%Y%m%d')\n",
    "    return sd\n",
    "\n",
    "def download_FIPS():\n",
    "    return pd.read_csv('https://raw.githubusercontent.com/dsoto/simple-covid-models/master/state-populations.csv',\n",
    "                        index_col='USPS')\n",
    "\n",
    "def fit_slopes(state_data):\n",
    "    # list doubling times\n",
    "    data_list = []\n",
    "    for state, data in state_data.groupby('state'):\n",
    "        # set date index\n",
    "        data = data.set_index('date')\n",
    "        # sort index\n",
    "        data = data.sort_index()\n",
    "        # discard older data\n",
    "        days_data = 7\n",
    "        data = data[-days_data:]\n",
    "        fit_x = np.arange(0, days_data, 1)\n",
    "        beta, log_intercept = np.polyfit(fit_x, np.log(data['positive']), 1)\n",
    "        data_list.append({'state':state, 'beta':beta, 'doubling':np.log(2)/beta, 'daily_growth': np.exp(beta)-1})\n",
    "    # return list of doubling times and USPS state codes in dictionary\n",
    "    return pd.DataFrame(data_list)\n",
    "\n",
    "def add_FIPS_to_fits(fit_data, FIPS_data):\n",
    "    fit_data = fit_data.set_index('state')\n",
    "    # hand remove states with no FIPS\n",
    "    fit_data = fit_data.drop(['AS', 'MP', 'VI', 'GU', 'PR'])\n",
    "    fit_data['FIPS'] = FIPS_data['FIPS']\n",
    "    fit_data = fit_data.set_index('FIPS')\n",
    "    # keys are FIPS, vals are data for color mapping\n",
    "    return fit_data['daily_growth'].to_dict()"
   ]
  },
  {
   "cell_type": "code",
   "execution_count": 4,
   "metadata": {},
   "outputs": [],
   "source": [
    "covid_data = download_covidtracking()\n",
    "FIPS_data = download_FIPS()\n",
    "fit_data = fit_slopes(covid_data)\n",
    "color_data = add_FIPS_to_fits(fit_data, FIPS_data)"
   ]
  },
  {
   "cell_type": "code",
   "execution_count": 3,
   "metadata": {},
   "outputs": [
    {
     "data": {
      "application/vnd.jupyter.widget-view+json": {
       "model_id": "0ffa2f63b2834fea86cc76628953c0bf",
       "version_major": 2,
       "version_minor": 0
      },
      "text/plain": [
       "VBox(children=(Figure(axes=[ColorAxis(num_ticks=5, scale=ColorScale(scheme='viridis'))], fig_margin={'top': 60…"
      ]
     },
     "metadata": {},
     "output_type": "display_data"
    }
   ],
   "source": [
    "# plotting imports\n",
    "import bqplot.marks as bqm\n",
    "import bqplot.scales as bqs\n",
    "import bqplot.axes as bqa\n",
    "import bqplot as bq\n",
    "import ipywidgets as widgets\n",
    "from IPython.display import display\n",
    "\n",
    "sc_cl = bqs.ColorScale(scheme='viridis')\n",
    "sc_geo = bqs.AlbersUSA(scale_factor=1200, translate=(500,400))\n",
    "axis = bqa.ColorAxis(scale=sc_cl, num_ticks=5)\n",
    "map_styles = {'color': color_data,\n",
    "              'scales': {'projection': sc_geo, 'color': sc_cl}, \n",
    "              'colors': {'default_color': 'Grey'}}\n",
    "states_map = bqm.Map(map_data=bqm.topo_load('map_data/USStatesMap.json'), **map_styles)\n",
    "\n",
    "fig = bq.Figure(marks=[states_map], axes=[axis], title='COVID Daily Growth By State')\n",
    "box = widgets.VBox([fig])\n",
    "display(box)"
   ]
  },
  {
   "cell_type": "code",
   "execution_count": null,
   "metadata": {},
   "outputs": [],
   "source": []
  }
 ],
 "metadata": {
  "kernelspec": {
   "display_name": "Python 3",
   "language": "python",
   "name": "python3"
  },
  "language_info": {
   "codemirror_mode": {
    "name": "ipython",
    "version": 3
   },
   "file_extension": ".py",
   "mimetype": "text/x-python",
   "name": "python",
   "nbconvert_exporter": "python",
   "pygments_lexer": "ipython3",
   "version": "3.8.1"
  }
 },
 "nbformat": 4,
 "nbformat_minor": 4
}
